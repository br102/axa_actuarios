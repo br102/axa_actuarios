{
 "cells": [
  {
   "cell_type": "markdown",
   "metadata": {
    "application/vnd.databricks.v1+cell": {
     "cellMetadata": {},
     "inputWidgets": {},
     "nuid": "ccba124c-67a6-4a5d-be9e-3abdd3a60686",
     "showTitle": false,
     "tableResultSettingsMap": {},
     "title": ""
    }
   },
   "source": [
    "## Main Notebook\n",
    "\n",
    "Este notebook se va a encargar de llamar al notebook auxiliar (promedio_notebook) para calcular el promedio de la lista."
   ]
  },
  {
   "cell_type": "code",
   "execution_count": 0,
   "metadata": {
    "application/vnd.databricks.v1+cell": {
     "cellMetadata": {},
     "inputWidgets": {},
     "nuid": "cb9264f4-1fa4-4b84-9e63-9902259fe1dc",
     "showTitle": false,
     "tableResultSettingsMap": {},
     "title": ""
    }
   },
   "outputs": [],
   "source": [
    "# Llamar al notebook auxiliar\n",
    "resultado = dbutils.notebook.run(\"notebook_called\", 60)"
   ]
  },
  {
   "cell_type": "code",
   "execution_count": 0,
   "metadata": {
    "application/vnd.databricks.v1+cell": {
     "cellMetadata": {},
     "inputWidgets": {},
     "nuid": "fb599884-a37d-431d-93d4-c3151b922b16",
     "showTitle": false,
     "tableResultSettingsMap": {},
     "title": ""
    }
   },
   "outputs": [],
   "source": [
    "# Convertir el resultado a tipo adecuado\n",
    "promedio = float(resultado)\n",
    "\n",
    "print(f\"Resultado recibido del notebook_called: {promedio}\")"
   ]
  },
  {
   "cell_type": "code",
   "execution_count": 0,
   "metadata": {
    "application/vnd.databricks.v1+cell": {
     "cellMetadata": {},
     "inputWidgets": {},
     "nuid": "41ac42e8-9b7f-4f85-8bed-ac54fc8328f1",
     "showTitle": false,
     "tableResultSettingsMap": {},
     "title": ""
    }
   },
   "outputs": [],
   "source": [
    "# Usar el resultado para un siguiente paso\n",
    "if promedio > 25:\n",
    "    print(\"El promedio es mayor a 25, realizando acción adicional...\")\n",
    "else:\n",
    "    print(\"El promedio es menor o igual a 25, finalizando pipeline.\")"
   ]
  }
 ],
 "metadata": {
  "application/vnd.databricks.v1+notebook": {
   "computePreferences": null,
   "dashboards": [],
   "environmentMetadata": {
    "base_environment": "",
    "environment_version": "4"
   },
   "inputWidgetPreferences": null,
   "language": "python",
   "notebookMetadata": {
    "pythonIndentUnit": 4
   },
   "notebookName": "main_notebook",
   "widgets": {}
  },
  "language_info": {
   "name": "python"
  }
 },
 "nbformat": 4,
 "nbformat_minor": 0
}