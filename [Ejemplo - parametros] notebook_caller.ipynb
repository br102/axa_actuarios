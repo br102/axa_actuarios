{
 "cells": [
  {
   "cell_type": "markdown",
   "metadata": {
    "application/vnd.databricks.v1+cell": {
     "cellMetadata": {},
     "inputWidgets": {},
     "nuid": "44d55620-f2e9-47cb-a5db-e42bb9fe3f48",
     "showTitle": false,
     "tableResultSettingsMap": {},
     "title": ""
    }
   },
   "source": [
    "## Notebook principal\n",
    "\n",
    "Este notebook se va a encargar de llamar al notebook parametrizado para obtener los resultados."
   ]
  },
  {
   "cell_type": "code",
   "execution_count": 0,
   "metadata": {
    "application/vnd.databricks.v1+cell": {
     "cellMetadata": {
      "byteLimit": 2048000,
      "rowLimit": 10000
     },
     "inputWidgets": {},
     "nuid": "a49682eb-c0d4-4097-a5d2-b91c4581048e",
     "showTitle": false,
     "tableResultSettingsMap": {},
     "title": ""
    }
   },
   "outputs": [
    {
     "output_type": "stream",
     "name": "stdout",
     "output_type": "stream",
     "text": [
      "Resultado 2: 30\nResultado 3: 350\n"
     ]
    }
   ],
   "source": [
    "# Llamada 1\n",
    "resultado2 = dbutils.notebook.run(\"notebook_parametrizado\", 60, {\"numero1\": \"10\", \"numero2\": \"20\"})\n",
    "print(\"Resultado 2:\", resultado2)\n",
    "# Llamada 2\n",
    "resultado3 = dbutils.notebook.run(\"notebook_parametrizado\", 60, {\"numero1\": \"100\", \"numero2\": \"250\"})\n",
    "print(\"Resultado 3:\", resultado3)\n"
   ]
  }
 ],
 "metadata": {
  "application/vnd.databricks.v1+notebook": {
   "computePreferences": null,
   "dashboards": [],
   "environmentMetadata": {
    "base_environment": "",
    "environment_version": "3"
   },
   "inputWidgetPreferences": null,
   "language": "python",
   "notebookMetadata": {
    "pythonIndentUnit": 4
   },
   "notebookName": "notebook_caller",
   "widgets": {}
  },
  "language_info": {
   "name": "python"
  }
 },
 "nbformat": 4,
 "nbformat_minor": 0
}