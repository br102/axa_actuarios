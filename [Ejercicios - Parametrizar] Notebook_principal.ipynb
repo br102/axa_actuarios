{
 "cells": [
  {
   "cell_type": "markdown",
   "metadata": {
    "application/vnd.databricks.v1+cell": {
     "cellMetadata": {
      "byteLimit": 2048000,
      "rowLimit": 10000
     },
     "inputWidgets": {},
     "nuid": "44d55620-f2e9-47cb-a5db-e42bb9fe3f48",
     "showTitle": false,
     "tableResultSettingsMap": {},
     "title": ""
    }
   },
   "source": [
    "## Notebook principal\n",
    "\n",
    "Este notebook se va a encargar de llamar al un nuevo notebook llamado notebook_power."
   ]
  },
  {
   "cell_type": "code",
   "execution_count": 0,
   "metadata": {
    "application/vnd.databricks.v1+cell": {
     "cellMetadata": {
      "byteLimit": 2048000,
      "rowLimit": 10000
     },
     "inputWidgets": {},
     "nuid": "a49682eb-c0d4-4097-a5d2-b91c4581048e",
     "showTitle": false,
     "tableResultSettingsMap": {},
     "title": ""
    }
   },
   "outputs": [
    {
     "output_type": "stream",
     "name": "stdout",
     "output_type": "stream",
     "text": [
      "Resultado 1: 100\nResultado 2: 27\n"
     ]
    }
   ],
   "source": [
    "# Llamada 1\n",
    "resultado = dbutils.notebook.run(\"notebook_power\", 60, {\"numero_base\": \"10\", \"potencia\": \"2\"})\n",
    "print(\"Resultado 1:\", resultado)\n",
    "# Llamada 2\n",
    "resultado2 = dbutils.notebook.run(\"notebook_power\", 60, {\"numero_base\": \"3\", \"potencia\": \"3\"})\n",
    "print(\"Resultado 2:\", resultado2)\n"
   ]
  },
  {
   "cell_type": "markdown",
   "metadata": {
    "application/vnd.databricks.v1+cell": {
     "cellMetadata": {},
     "inputWidgets": {},
     "nuid": "c3474b82-8042-46cc-a76a-63bc6f0ec9b5",
     "showTitle": false,
     "tableResultSettingsMap": {},
     "title": ""
    }
   },
   "source": [
    "# Ejercicio 1\n",
    "Crea un nuevo notebook llamado 'notebook_power' el cual se encargue de elevar un numero base a la potencia dada por parámetro. Luego tiene que devolver el resultado al notebook desde el cual se le llama.\n",
    " Nota: Crealo en la misma carpeta.\n",
    " \n",
    " Pista: Puedes usar pow() de la biblioteca Math o puedes usar el operador nativo de python **: numero_base \\** potencia"
   ]
  }
 ],
 "metadata": {
  "application/vnd.databricks.v1+notebook": {
   "computePreferences": null,
   "dashboards": [],
   "environmentMetadata": {
    "base_environment": "",
    "environment_version": "3"
   },
   "inputWidgetPreferences": null,
   "language": "python",
   "notebookMetadata": {
    "pythonIndentUnit": 4
   },
   "notebookName": "[Ejercicios - Parametrizar] Notebook_principal",
   "widgets": {}
  },
  "language_info": {
   "name": "python"
  }
 },
 "nbformat": 4,
 "nbformat_minor": 0
}